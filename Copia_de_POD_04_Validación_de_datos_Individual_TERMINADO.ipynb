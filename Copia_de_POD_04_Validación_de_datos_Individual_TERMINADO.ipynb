{
  "nbformat": 4,
  "nbformat_minor": 0,
  "metadata": {
    "colab": {
      "provenance": []
    },
    "kernelspec": {
      "name": "python3",
      "display_name": "Python 3"
    },
    "language_info": {
      "name": "python"
    }
  },
  "cells": [
    {
      "cell_type": "markdown",
      "source": [
        "*   **Año:** 2024\n",
        "*   **Alumno/a:** Sampayo Melanie\n",
        "*   **Legajo:** [LEGAJO]"
      ],
      "metadata": {
        "id": "UwxQU5JCF33j"
      }
    },
    {
      "cell_type": "markdown",
      "source": [
        "# Pydantic\n",
        "Pydantic es una libreria rapida y extensible que nos permite validar datos usando tipos de datos de Python.\n"
      ],
      "metadata": {
        "id": "8ec8DQdbWQfC"
      }
    },
    {
      "cell_type": "markdown",
      "source": [
        "Primero, importe `pydantic`."
      ],
      "metadata": {
        "id": "uF01w4AQcrtV"
      }
    },
    {
      "cell_type": "code",
      "source": [
        "import pydantic"
      ],
      "metadata": {
        "id": "4WPUcwU_c5n2"
      },
      "execution_count": null,
      "outputs": []
    },
    {
      "cell_type": "markdown",
      "source": [
        "Supongamos que tenemos una lista de clientes (llamemoslo en el codigo `Client`). Los clientes tienen dos campos: DNI (un entero) y nacionalidad (un `string`). Cree el modelo base de `Client` (en forma de clases de Python)."
      ],
      "metadata": {
        "id": "eC8fpbQ04GzX"
      }
    },
    {
      "cell_type": "code",
      "source": [
        "from pydantic import BaseModel\n",
        "class Client(BaseModel):\n",
        "  DNI:int\n",
        "  nacionalidad:str\n"
      ],
      "metadata": {
        "id": "I4zJ7s_k4GkI"
      },
      "execution_count": null,
      "outputs": []
    },
    {
      "cell_type": "markdown",
      "source": [
        "Cree a un usuario con documento 39.755.010 y nacionalidad 'Argentina'. Muestre todos sus campos."
      ],
      "metadata": {
        "id": "zas-XX4r4SeP"
      }
    },
    {
      "cell_type": "code",
      "source": [
        "usuario=Client(DNI=39755010, nacionalidad=\"Argentina\")\n",
        "print(usuario)"
      ],
      "metadata": {
        "id": "_DhtCWhr4ST9",
        "colab": {
          "base_uri": "https://localhost:8080/"
        },
        "outputId": "d8451824-8d8c-414b-bb94-27096ad2785d"
      },
      "execution_count": null,
      "outputs": [
        {
          "output_type": "stream",
          "name": "stdout",
          "text": [
            "DNI=39755010 nacionalidad='Argentina'\n"
          ]
        }
      ]
    },
    {
      "cell_type": "markdown",
      "source": [
        "Intente crear al usuario con un documento en forma de `string`. Deberia fallar..."
      ],
      "metadata": {
        "id": "ejbn5RSH4S_W"
      }
    },
    {
      "cell_type": "code",
      "source": [
        "usuario=Client(DNI=\"39755010\", nacionalidad=\"Argentina\")\n",
        "print(usuario)"
      ],
      "metadata": {
        "id": "OMPq8C1C4Su3",
        "colab": {
          "base_uri": "https://localhost:8080/"
        },
        "outputId": "c5358d85-f31d-4d28-cdf3-a72e8756ad66"
      },
      "execution_count": null,
      "outputs": [
        {
          "output_type": "stream",
          "name": "stdout",
          "text": [
            "DNI=39755010 nacionalidad='Argentina'\n"
          ]
        }
      ]
    },
    {
      "cell_type": "markdown",
      "source": [
        "Hemos detectado que ciertos clientes tienen nacionalidades que no existen. Ademas, hay numeros de documento negativos y se tiene que poder agregar la fecha de registro de los clientes (que no pueden ser del futuro). Cambiar la definicion del cliente para que estas cosas no ocurran. Despues de la siguiente celda, cree otras 3 mas probando un caso donde deberia funcionar y otros dos en los que no."
      ],
      "metadata": {
        "id": "jARZRMfe6MPE"
      }
    },
    {
      "cell_type": "code",
      "source": [
        "!pip install pycountry\n",
        "from pydantic import BaseModel, validator, ValidationError\n",
        "from datetime import date\n",
        "import pycountry\n",
        "\n",
        "class Client(BaseModel):\n",
        "    DNI: int\n",
        "    nacionalidad: str\n",
        "    fecha_registro: date\n",
        "\n",
        "    @validator('DNI')\n",
        "    def dni_must_be_positive(cls, value):\n",
        "        if value < 0:\n",
        "            raise ValueError('DNI must be positive')\n",
        "        return value\n",
        "\n",
        "    @validator('nacionalidad')\n",
        "    def nacionalidad_must_be_valid(cls, value):\n",
        "        if not any(country.alpha_2 == value for country in pycountry.countries):\n",
        "            raise ValueError(f'Nacionalidad \"{value}\" is not valid')\n",
        "        return value\n",
        "\n",
        "    @validator('fecha_registro')\n",
        "    def registration_date_cannot_be_in_the_future(cls, value):\n",
        "        if value > date.today():\n",
        "            raise ValueError('Registration date cannot be in the future')\n",
        "        return value\n"
      ],
      "metadata": {
        "colab": {
          "base_uri": "https://localhost:8080/"
        },
        "id": "yTiHD_tH9DOG",
        "outputId": "ab88c522-5a5a-426b-f640-f9bffabecf23"
      },
      "execution_count": null,
      "outputs": [
        {
          "output_type": "stream",
          "name": "stdout",
          "text": [
            "Collecting pycountry\n",
            "  Downloading pycountry-24.6.1-py3-none-any.whl.metadata (12 kB)\n",
            "Downloading pycountry-24.6.1-py3-none-any.whl (6.3 MB)\n",
            "\u001b[2K   \u001b[90m━━━━━━━━━━━━━━━━━━━━━━━━━━━━━━━━━━━━━━━━\u001b[0m \u001b[32m6.3/6.3 MB\u001b[0m \u001b[31m43.4 MB/s\u001b[0m eta \u001b[36m0:00:00\u001b[0m\n",
            "\u001b[?25hInstalling collected packages: pycountry\n",
            "Successfully installed pycountry-24.6.1\n"
          ]
        },
        {
          "output_type": "stream",
          "name": "stderr",
          "text": [
            "<ipython-input-8-7a0f22ec2d18>:11: PydanticDeprecatedSince20: Pydantic V1 style `@validator` validators are deprecated. You should migrate to Pydantic V2 style `@field_validator` validators, see the migration guide for more details. Deprecated in Pydantic V2.0 to be removed in V3.0. See Pydantic V2 Migration Guide at https://errors.pydantic.dev/2.9/migration/\n",
            "  @validator('DNI')\n",
            "<ipython-input-8-7a0f22ec2d18>:17: PydanticDeprecatedSince20: Pydantic V1 style `@validator` validators are deprecated. You should migrate to Pydantic V2 style `@field_validator` validators, see the migration guide for more details. Deprecated in Pydantic V2.0 to be removed in V3.0. See Pydantic V2 Migration Guide at https://errors.pydantic.dev/2.9/migration/\n",
            "  @validator('nacionalidad')\n",
            "<ipython-input-8-7a0f22ec2d18>:23: PydanticDeprecatedSince20: Pydantic V1 style `@validator` validators are deprecated. You should migrate to Pydantic V2 style `@field_validator` validators, see the migration guide for more details. Deprecated in Pydantic V2.0 to be removed in V3.0. See Pydantic V2 Migration Guide at https://errors.pydantic.dev/2.9/migration/\n",
            "  @validator('fecha_registro')\n"
          ]
        }
      ]
    },
    {
      "cell_type": "code",
      "source": [
        "try:\n",
        "    client_valid = Client(DNI=12345678, nacionalidad='AR', fecha_registro=date(2023, 5, 20))\n",
        "    print(\"Caso válido:\", client_valid)\n",
        "except ValidationError as e:\n",
        "    print(e)\n"
      ],
      "metadata": {
        "id": "sWyLaqoC7QUK",
        "colab": {
          "base_uri": "https://localhost:8080/"
        },
        "outputId": "59df5759-d047-469d-ec18-065311912b92"
      },
      "execution_count": null,
      "outputs": [
        {
          "output_type": "stream",
          "name": "stdout",
          "text": [
            "Caso válido: DNI=12345678 nacionalidad='AR' fecha_registro=datetime.date(2023, 5, 20)\n"
          ]
        }
      ]
    },
    {
      "cell_type": "code",
      "source": [
        "try:\n",
        "    client_invalid_dni = Client(DNI=-12345678, nacionalidad='AR', fecha_registro=date(2023, 5, 20))\n",
        "except ValidationError as e:\n",
        "    print(\"Caso inválido:\", e)\n"
      ],
      "metadata": {
        "id": "E6h_7zb77QhN",
        "colab": {
          "base_uri": "https://localhost:8080/"
        },
        "outputId": "13710d5e-a04c-4f64-c0ce-51a3d8f81131"
      },
      "execution_count": null,
      "outputs": [
        {
          "output_type": "stream",
          "name": "stdout",
          "text": [
            "Caso inválido (DNI negativo): 1 validation error for Client\n",
            "DNI\n",
            "  Value error, DNI must be positive [type=value_error, input_value=-12345678, input_type=int]\n",
            "    For further information visit https://errors.pydantic.dev/2.9/v/value_error\n"
          ]
        }
      ]
    },
    {
      "cell_type": "code",
      "source": [
        "try:\n",
        "    client_invalid_nationality = Client(DNI=12345678, nacionalidad='ZZ', fecha_registro=date(2023, 5, 20))\n",
        "except ValidationError as e:\n",
        "    print(\"Caso inválido:\", e)\n"
      ],
      "metadata": {
        "id": "MtDGMxri7R_O",
        "colab": {
          "base_uri": "https://localhost:8080/"
        },
        "outputId": "a9f39833-b341-4543-c1fd-cbe507977e7f"
      },
      "execution_count": null,
      "outputs": [
        {
          "output_type": "stream",
          "name": "stdout",
          "text": [
            "Caso inválido: 1 validation error for Client\n",
            "nacionalidad\n",
            "  Value error, Nacionalidad \"ZZ\" is not valid [type=value_error, input_value='ZZ', input_type=str]\n",
            "    For further information visit https://errors.pydantic.dev/2.9/v/value_error\n"
          ]
        }
      ]
    },
    {
      "cell_type": "markdown",
      "source": [
        "# Pandera\n",
        "Hacer lo que se pidio en la ultima celda anterior, pero con Pandera."
      ],
      "metadata": {
        "id": "79P3MNuZ8-t3"
      }
    },
    {
      "cell_type": "code",
      "source": [
        "import pandera as pa\n",
        "from pandera import DataFrameSchema, Column, Check\n",
        "import pycountry\n",
        "from datetime import date\n",
        "import pandas as pd\n",
        "\n",
        "def validate_country(series: pd.Series) -> pd.Series:\n",
        "    valid_countries = {country.alpha_2 for country in pycountry.countries}\n",
        "    return series.isin(valid_countries)\n",
        "\n",
        "\n",
        "schema = DataFrameSchema({\n",
        "    \"DNI\": Column(int, Check(lambda x: x > 0, error=\"DNI must be positive\")),\n",
        "    \"nacionalidad\": Column(\n",
        "        str,\n",
        "        Check(validate_country, error=\"Invalid country code\")\n",
        "    ),\n",
        "    \"fecha_registro\": Column(\n",
        "        pa.DateTime,\n",
        "        Check(lambda x: x <= pd.Timestamp(date.today()), error=\"Registration date cannot be in the future\")\n",
        "    ),\n",
        "})\n",
        "\n",
        "data = [\n",
        "    {\"DNI\": 12345678, \"nacionalidad\": \"AR\", \"fecha_registro\": \"2023-05-20\"},  # Válido\n",
        "    {\"DNI\": -12345678, \"nacionalidad\": \"AR\", \"fecha_registro\": \"2023-05-20\"},  # DNI negativo\n",
        "    {\"DNI\": 12345678, \"nacionalidad\": \"ZZ\", \"fecha_registro\": \"2023-05-20\"},  # Nacionalidad inválida\n",
        "    {\"DNI\": 12345678, \"nacionalidad\": \"AR\", \"fecha_registro\": \"2025-01-01\"},  # Fecha futura\n",
        "]\n",
        "\n",
        "df = pd.DataFrame(data)\n",
        "\n",
        "df[\"fecha_registro\"] = pd.to_datetime(df[\"fecha_registro\"], errors=\"coerce\")\n",
        "\n",
        "\n",
        "try:\n",
        "    validated_df = schema.validate(df, lazy=True)\n",
        "    print(\"Todos los datos son válidos.\")\n",
        "    print(validated_df)\n",
        "except pa.errors.SchemaErrors as e:\n",
        "    print(\"Caso inválido:\")\n",
        "    print(e.failure_cases)\n"
      ],
      "metadata": {
        "colab": {
          "base_uri": "https://localhost:8080/"
        },
        "id": "USwVCJil_9H7",
        "outputId": "c40f0f45-7c50-4c45-f645-14851f3f5384"
      },
      "execution_count": null,
      "outputs": [
        {
          "output_type": "stream",
          "name": "stdout",
          "text": [
            "Caso inválido:\n",
            "  schema_context          column                                      check  \\\n",
            "0         Column             DNI                       DNI must be positive   \n",
            "1         Column    nacionalidad                       Invalid country code   \n",
            "2         Column  fecha_registro  Registration date cannot be in the future   \n",
            "\n",
            "   check_number         failure_case  index  \n",
            "0             0            -12345678      1  \n",
            "1             0                   ZZ      2  \n",
            "2             0  2025-01-01 00:00:00      3  \n"
          ]
        }
      ]
    }
  ]
}